{
 "cells": [
  {
   "cell_type": "code",
   "execution_count": 7,
   "metadata": {},
   "outputs": [],
   "source": [
    "from numpy import mean, cov, var, std, sqrt\n",
    "\n",
    "\n",
    "# criando a classe para usar o construtor\n",
    "class LinearRegression:\n",
    "    def __init__(self, x, y):\n",
    "        self.x = x\n",
    "        self.y = y\n",
    "        # propriedades privadas, para que seja associada somente dentro da classe\n",
    "        self.__correlation_coeficient = self.__correlacao()\n",
    "        self.__inclination = self.__inclinacao()\n",
    "        self.__intercept = self.__inteceptacao()\n",
    "        \n",
    "    def __correlacao(self):\n",
    "        # função de covariacao (cov()) retorna uma matriz\n",
    "        covariacao = cov(self.x, self.y, bias=True)[0][1]\n",
    "        varianca_x = var(self.x)\n",
    "        varianca_y = var(self.y)\n",
    "        return covariacao / sqrt(varianca_x * varianca_y)\n",
    "    \n",
    "    def __inclinacao(self):\n",
    "        desvio_x = std(self.x)\n",
    "        desvio_y = std(self.y)\n",
    "        return self.__correlation_coeficient * (desvio_y / desvio_x)\n",
    "    \n",
    "    def __inteceptacao(self):\n",
    "        media_x = mean(self.x)\n",
    "        media_y = mean(self.y)\n",
    "        return media_y - media_x * self.__inclination\n",
    "    \n",
    "    def previsao(self, valor_previsao):\n",
    "        return self.__intercept + (self.__inclination * valor_previsao)"
   ]
  },
  {
   "cell_type": "code",
   "execution_count": 8,
   "metadata": {},
   "outputs": [
    {
     "name": "stdout",
     "output_type": "stream",
     "text": [
      "12.0\n"
     ]
    }
   ],
   "source": [
    "x = [1,2,3,4,5]\n",
    "y = [2,4,6,8,10]\n",
    "\n",
    "# construtor x e y\n",
    "lr = LinearRegression(x,y)\n",
    "previsao = lr.previsao(6)\n",
    "print(previsao)"
   ]
  }
 ],
 "metadata": {
  "kernelspec": {
   "display_name": ".venv",
   "language": "python",
   "name": "python3"
  },
  "language_info": {
   "codemirror_mode": {
    "name": "ipython",
    "version": 3
   },
   "file_extension": ".py",
   "mimetype": "text/x-python",
   "name": "python",
   "nbconvert_exporter": "python",
   "pygments_lexer": "ipython3",
   "version": "3.11.6"
  }
 },
 "nbformat": 4,
 "nbformat_minor": 2
}
